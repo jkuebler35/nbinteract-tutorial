{
 "cells": [
  {
   "cell_type": "markdown",
   "metadata": {},
   "source": [
    "# Setup"
   ]
  },
  {
   "cell_type": "code",
   "execution_count": 1,
   "metadata": {},
   "outputs": [],
   "source": [
    "%matplotlib inline\n",
    "import torch\n",
    "import torch.nn as nn\n",
    "import torch.nn.functional as F"
   ]
  },
  {
   "cell_type": "markdown",
   "metadata": {},
   "source": [
    "# Hard code the data and seperate into x and y"
   ]
  },
  {
   "cell_type": "code",
   "execution_count": 2,
   "metadata": {},
   "outputs": [],
   "source": [
    "train_data = torch.tensor(\n",
    "    [\n",
    "        [1,1,0],\n",
    "        [1,0,1],\n",
    "        [0,1,1],\n",
    "        [0,0,1]\n",
    "    ],\n",
    "    dtype=torch.float\n",
    ")\n",
    "\n",
    "x, y = train_data[:, :2], train_data[:, -1]\n",
    "y = y.view(len(y), 1)"
   ]
  },
  {
   "cell_type": "markdown",
   "metadata": {},
   "source": [
    "# Create a Module \n",
    "it has an input of two with 2 hidden units that are converted using the sigmoid function into 1 final unit"
   ]
  },
  {
   "cell_type": "code",
   "execution_count": 3,
   "metadata": {},
   "outputs": [],
   "source": [
    "class NAND(nn.Module):           \n",
    "  def __init__(self, D_in, D_out):\n",
    "    super(NAND, self).__init__()\n",
    "    self.lin1 = nn.Linear(D_in, 2, True)\n",
    "    self.lin2 = nn.Linear(2, D_out, True)\n",
    "  \n",
    "  def forward(self, y):\n",
    "    y = self.lin1(y)\n",
    "    y = torch.sigmoid(y)\n",
    "    y = self.lin2(y)\n",
    "    return y\n",
    "\n",
    "model = NAND(2, 1)"
   ]
  },
  {
   "cell_type": "markdown",
   "metadata": {},
   "source": [
    "# Create loss and Optimize function"
   ]
  },
  {
   "cell_type": "code",
   "execution_count": 4,
   "metadata": {},
   "outputs": [],
   "source": [
    "criterion = torch.nn.MSELoss()\n",
    "optimizer = torch.optim.SGD(model.parameters(), lr=0.1)                 "
   ]
  },
  {
   "cell_type": "markdown",
   "metadata": {},
   "source": [
    "# Run through 1000 epochs\n",
    "the loss on the last epoch was only 0.050379"
   ]
  },
  {
   "cell_type": "code",
   "execution_count": 5,
   "metadata": {
    "scrolled": true
   },
   "outputs": [
    {
     "name": "stdout",
     "output_type": "stream",
     "text": [
      "Epoch: 100 \tLoss: 0.17291226983070374\n",
      "Epoch: 200 \tLoss: 0.13945375382900238\n",
      "Epoch: 300 \tLoss: 0.10535777360200882\n",
      "Epoch: 400 \tLoss: 0.08398808538913727\n",
      "Epoch: 500 \tLoss: 0.07280971109867096\n",
      "Epoch: 600 \tLoss: 0.06587159633636475\n",
      "Epoch: 700 \tLoss: 0.06085842847824097\n",
      "Epoch: 800 \tLoss: 0.05688503757119179\n",
      "Epoch: 900 \tLoss: 0.05347991734743118\n",
      "Epoch: 1000 \tLoss: 0.05037970095872879\n"
     ]
    }
   ],
   "source": [
    "epochs = 1000\n",
    "\n",
    "for epoch in range(epochs):\n",
    "  y_pred = model(x)\n",
    "  loss = criterion(y_pred, y)\n",
    "  if (epoch + 1) % 100 == 0:\n",
    "    print('Epoch:', epoch + 1, '\\tLoss:', loss.item())\n",
    "\n",
    "  optimizer.zero_grad()                             \n",
    "  loss.backward()                                    \n",
    "  optimizer.step()                                    "
   ]
  },
  {
   "cell_type": "markdown",
   "metadata": {},
   "source": [
    "# Print out Predictions"
   ]
  },
  {
   "cell_type": "code",
   "execution_count": 6,
   "metadata": {},
   "outputs": [
    {
     "name": "stdout",
     "output_type": "stream",
     "text": [
      "tensor([1., 1.])  prediction:  tensor([0.])\n",
      "tensor([1., 0.])  prediction:  tensor([1.])\n",
      "tensor([0., 1.])  prediction:  tensor([1.])\n",
      "tensor([0., 0.])  prediction:  tensor([1.])\n"
     ]
    }
   ],
   "source": [
    "x_dev = torch.tensor(\n",
    "    [\n",
    "        [1, 1],\n",
    "        [1, 0],\n",
    "        [0, 1],\n",
    "        [0, 0]\n",
    "    ],\n",
    "    dtype=torch.float\n",
    ")\n",
    "\n",
    "with torch.no_grad():\n",
    "  y_dev_pred = model(x_dev)\n",
    "\n",
    "y_dev_pred = torch.round(y_dev_pred)\n",
    "\n",
    "for x, y in zip(x_dev, y_dev_pred):\n",
    "    print(x, ' prediction: ', y)"
   ]
  },
  {
   "cell_type": "code",
   "execution_count": null,
   "metadata": {},
   "outputs": [],
   "source": []
  }
 ],
 "metadata": {
  "kernelspec": {
   "display_name": "Python 3",
   "language": "python",
   "name": "python3"
  },
  "language_info": {
   "codemirror_mode": {
    "name": "ipython",
    "version": 3
   },
   "file_extension": ".py",
   "mimetype": "text/x-python",
   "name": "python",
   "nbconvert_exporter": "python",
   "pygments_lexer": "ipython3",
   "version": "3.7.6"
  }
 },
 "nbformat": 4,
 "nbformat_minor": 4
}
